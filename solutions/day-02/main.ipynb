{
 "cells": [
  {
   "cell_type": "code",
   "execution_count": 1,
   "metadata": {},
   "outputs": [],
   "source": [
    "# AOC Day 2\n",
    "\n",
    "%load_ext autoreload\n",
    "%autoreload 2\n",
    "\n",
    "from aoc.utils import *"
   ]
  },
  {
   "cell_type": "code",
   "execution_count": 6,
   "metadata": {},
   "outputs": [],
   "source": [
    "# Load input and test data\n",
    "with open(\"input.txt\", \"r\") as file:\n",
    "    input_data = file.read().strip()\n",
    "\n",
    "with open(\"test.txt\", \"r\") as file:\n",
    "    test_input_data = file.read().strip()"
   ]
  },
  {
   "cell_type": "code",
   "execution_count": null,
   "metadata": {},
   "outputs": [
    {
     "name": "stdout",
     "output_type": "stream",
     "text": [
      "Part 1: 479\n",
      "Part 2: 531\n"
     ]
    }
   ],
   "source": [
    "def remove_item(list, index):\n",
    "    return list[:index] + list[index + 1:]\n",
    "\n",
    "def is_safe(numbers):\n",
    "    is_descending = numbers[1] < numbers[0]\n",
    "    for i in range(1, len(numbers)):\n",
    "        difference = numbers[i] - numbers[i - 1]\n",
    "        if abs(difference) < 1 or abs(difference) > 3:\n",
    "            return False\n",
    "        if is_descending and difference >= 0:\n",
    "            return False\n",
    "        if not is_descending and difference < 0:\n",
    "            return False\n",
    "    return True\n",
    "\n",
    "part_1_safe, part_2_safe = 0, 0\n",
    "for row in input_data.split(\"\\n\"):\n",
    "    numbers = list(map(int, row.split(\" \")))\n",
    "    if is_safe(numbers):\n",
    "        part_1_safe += 1\n",
    "        part_2_safe += 1\n",
    "        continue\n",
    "    for i in range(len(numbers)):\n",
    "        if is_safe(remove_item(numbers, i)):\n",
    "            part_2_safe += 1\n",
    "            break\n",
    "print(\"Part 1:\", part_1_safe)\n",
    "print(\"Part 2:\", part_2_safe)\n"
   ]
  }
 ],
 "metadata": {
  "kernelspec": {
   "display_name": "Python 3",
   "language": "python",
   "name": "python3"
  },
  "language_info": {
   "codemirror_mode": {
    "name": "ipython",
    "version": 3
   },
   "file_extension": ".py",
   "mimetype": "text/x-python",
   "name": "python",
   "nbconvert_exporter": "python",
   "pygments_lexer": "ipython3",
   "version": "3.12.1"
  }
 },
 "nbformat": 4,
 "nbformat_minor": 2
}
