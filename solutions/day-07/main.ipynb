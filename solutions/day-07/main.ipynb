{
 "cells": [
  {
   "cell_type": "code",
   "execution_count": 1,
   "metadata": {},
   "outputs": [],
   "source": [
    "# AOC Day 7\n",
    "\n",
    "%load_ext autoreload\n",
    "%autoreload 2\n",
    "\n",
    "from aoc.utils import *"
   ]
  },
  {
   "cell_type": "code",
   "execution_count": 2,
   "metadata": {},
   "outputs": [
    {
     "name": "stdout",
     "output_type": "stream",
     "text": [
      "6392012777720 61561126043536\n"
     ]
    }
   ],
   "source": [
    "summations: list[int] = []\n",
    "numbers: list[list[int]] = []\n",
    "\n",
    "\n",
    "with open(\"input.txt\", \"r\") as file:\n",
    "    for row in file.read().split(\"\\n\"):\n",
    "        summation_str, numbers_str = row.split(\":\")\n",
    "        summations.append(int(summation_str))\n",
    "        numbers.append([int(x) for x in numbers_str.strip().split(\" \")])\n",
    "\n",
    "def concat_input(a: int, b: int) -> int:\n",
    "    return a * 10**len(str(b)) + b\n",
    "\n",
    "def check_input(summation_target: int, accumulator:int, numbers: list[int], part_1: bool = False) -> bool:\n",
    "    if accumulator == summation_target and len(numbers) == 0:\n",
    "        return True\n",
    "    if accumulator > summation_target or len(numbers) == 0:\n",
    "        return False\n",
    "    if part_1:\n",
    "        return check_input(summation_target, accumulator + numbers[0], numbers[1:], part_1) or check_input(summation_target, accumulator * numbers[0], numbers[1:], part_1)\n",
    "    return check_input(summation_target, concat_input(accumulator, numbers[0]), numbers[1:]) or check_input(summation_target, accumulator * numbers[0], numbers[1:]) or check_input(summation_target, accumulator + numbers[0], numbers[1:])\n",
    "\n",
    "part_1, part_2 = 0, 0\n",
    "for summation, number_list in zip(summations, numbers):\n",
    "    if check_input(summation, number_list[0], number_list[1:], True):\n",
    "        part_1 += summation\n",
    "    if check_input(summation, number_list[0], number_list[1:]):\n",
    "        part_2 += summation\n",
    "    \n",
    "print(part_1, part_2)\n",
    "\n",
    "\n",
    "\n",
    "\n"
   ]
  }
 ],
 "metadata": {
  "kernelspec": {
   "display_name": "Python 3",
   "language": "python",
   "name": "python3"
  },
  "language_info": {
   "codemirror_mode": {
    "name": "ipython",
    "version": 3
   },
   "file_extension": ".py",
   "mimetype": "text/x-python",
   "name": "python",
   "nbconvert_exporter": "python",
   "pygments_lexer": "ipython3",
   "version": "3.12.1"
  }
 },
 "nbformat": 4,
 "nbformat_minor": 2
}
