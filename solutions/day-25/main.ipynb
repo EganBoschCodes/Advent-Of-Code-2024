{
 "cells": [
  {
   "cell_type": "code",
   "execution_count": 1,
   "metadata": {},
   "outputs": [],
   "source": [
    "# AOC Day 25\n",
    "\n",
    "%load_ext autoreload\n",
    "%autoreload 2\n",
    "\n",
    "from aoc.utils import *"
   ]
  },
  {
   "cell_type": "code",
   "execution_count": 13,
   "metadata": {},
   "outputs": [
    {
     "name": "stdout",
     "output_type": "stream",
     "text": [
      "3508\n"
     ]
    }
   ],
   "source": [
    "locks, keys = [], []\n",
    "\n",
    "# Load input and test data\n",
    "with open(\"input.txt\", \"r\") as file:\n",
    "    input_data = file.read().split(\"\\n\\n\")\n",
    "\n",
    "    for input_item in input_data:\n",
    "        rows = input_item.split(\"\\n\")\n",
    "        is_key = all([c == \".\" for c in rows[0]])\n",
    "        transposed = list(map(list, zip(*rows)))\n",
    "        heights = [row.count(\"#\") - 1 for row in transposed]\n",
    "        if is_key:\n",
    "            keys.append(heights)\n",
    "            continue\n",
    "        locks.append(heights)\n",
    "\n",
    "def key_fits_lock(key, lock):\n",
    "    return all([key[i] + lock[i] <= 5 for i in range(len(key))])\n",
    "\n",
    "num_fits = 0\n",
    "for lock in locks:\n",
    "    for key in keys:\n",
    "        if key_fits_lock(key, lock):\n",
    "            num_fits += 1\n",
    "\n",
    "print(num_fits)\n",
    "\n",
    "\n"
   ]
  }
 ],
 "metadata": {
  "kernelspec": {
   "display_name": "Python 3",
   "language": "python",
   "name": "python3"
  },
  "language_info": {
   "codemirror_mode": {
    "name": "ipython",
    "version": 3
   },
   "file_extension": ".py",
   "mimetype": "text/x-python",
   "name": "python",
   "nbconvert_exporter": "python",
   "pygments_lexer": "ipython3",
   "version": "3.12.1"
  }
 },
 "nbformat": 4,
 "nbformat_minor": 2
}
