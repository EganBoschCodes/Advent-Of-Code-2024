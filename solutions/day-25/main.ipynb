{
 "cells": [
  {
   "cell_type": "code",
   "execution_count": 1,
   "metadata": {},
   "outputs": [],
   "source": [
    "# AOC Day 25\n",
    "\n",
    "%load_ext autoreload\n",
    "%autoreload 2\n",
    "\n",
    "from aoc.utils import *"
   ]
  },
  {
   "cell_type": "code",
   "execution_count": null,
   "metadata": {},
   "outputs": [
    {
     "name": "stdout",
     "output_type": "stream",
     "text": [
      ".....\n",
      "..#..\n",
      "..#.#\n",
      "..#.#\n",
      "#.###\n",
      "#####\n",
      "#####\n"
     ]
    }
   ],
   "source": [
    "locks, keys = [], []\n",
    "\n",
    "# Load input and test data\n",
    "with open(\"input.txt\", \"r\") as file:\n",
    "    input_data = file.read().split(\"\\n\\n\")\n",
    "    print(input_data[0])\n",
    "\n",
    "    for input_item in input_data:\n",
    "        rows = input_item.split(\"\\n\")\n",
    "        is_key = all([c == \".\" for c in rows[0]])\n",
    "\n",
    "\n"
   ]
  }
 ],
 "metadata": {
  "kernelspec": {
   "display_name": "Python 3",
   "language": "python",
   "name": "python3"
  },
  "language_info": {
   "codemirror_mode": {
    "name": "ipython",
    "version": 3
   },
   "file_extension": ".py",
   "mimetype": "text/x-python",
   "name": "python",
   "nbconvert_exporter": "python",
   "pygments_lexer": "ipython3",
   "version": "3.12.1"
  }
 },
 "nbformat": 4,
 "nbformat_minor": 2
}
