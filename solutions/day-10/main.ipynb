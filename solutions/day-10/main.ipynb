{
 "cells": [
  {
   "cell_type": "code",
   "execution_count": 1,
   "metadata": {},
   "outputs": [],
   "source": [
    "# AOC Day 10\n",
    "\n",
    "%load_ext autoreload\n",
    "%autoreload 2\n",
    "\n",
    "from aoc.utils import *"
   ]
  },
  {
   "cell_type": "code",
   "execution_count": 28,
   "metadata": {},
   "outputs": [],
   "source": [
    "class HikingMap:\n",
    "    def __init__(self, file_address: str):\n",
    "        self.topology: dict[tuple[int, int], int] = {}\n",
    "        with open(file_address) as file:\n",
    "            for i, row in enumerate(file.read().split(\"\\n\")):\n",
    "                for j, c in enumerate(row):\n",
    "                    self.topology[(i, j)] = int(c)\n",
    "    \n",
    "    def get(self, point: tuple[int, int]) -> int:\n",
    "        return self.topology.get(point, -1)\n",
    "    \n",
    "    def moves_from(self, height: int, point: tuple[int, int]) -> list[tuple[int, int]]:\n",
    "        moves = []\n",
    "        for offset in [(0, 1), (1, 0), (0, -1), (-1, 0)]:\n",
    "            new_point = (point[0] + offset[0], point[1] + offset[1])\n",
    "            if self.get(new_point) == height + 1:\n",
    "                moves.append(new_point)\n",
    "        return moves\n",
    "    \n",
    "    def iter_points(self):\n",
    "        return self.topology.keys()\n",
    "    \n",
    "hiking_map = HikingMap(\"input.txt\")"
   ]
  },
  {
   "cell_type": "code",
   "execution_count": 30,
   "metadata": {},
   "outputs": [
    {
     "name": "stdout",
     "output_type": "stream",
     "text": [
      "Part 2: 1086\n"
     ]
    }
   ],
   "source": [
    "trailhead_score = 0\n",
    "for point in hiking_map.iter_points():\n",
    "    if hiking_map.get(point) != 0:\n",
    "        continue\n",
    "    current_points, current_height = [point], 0\n",
    "    while current_height < 9:\n",
    "        next_points = []\n",
    "        for point in current_points:\n",
    "            for next_point in hiking_map.moves_from(current_height, point):\n",
    "                # Uncomment the below line for Part 1.\n",
    "                #if next_point not in next_points:\n",
    "                next_points.append(next_point)\n",
    "        current_points, current_height = next_points, current_height + 1\n",
    "    trailhead_score += len(current_points)\n",
    "print(\"Part 2:\", trailhead_score)\n"
   ]
  }
 ],
 "metadata": {
  "kernelspec": {
   "display_name": "Python 3",
   "language": "python",
   "name": "python3"
  },
  "language_info": {
   "codemirror_mode": {
    "name": "ipython",
    "version": 3
   },
   "file_extension": ".py",
   "mimetype": "text/x-python",
   "name": "python",
   "nbconvert_exporter": "python",
   "pygments_lexer": "ipython3",
   "version": "3.12.1"
  }
 },
 "nbformat": 4,
 "nbformat_minor": 2
}
