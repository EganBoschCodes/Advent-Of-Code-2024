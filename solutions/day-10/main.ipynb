{
 "cells": [
  {
   "cell_type": "code",
   "execution_count": 1,
   "metadata": {},
   "outputs": [],
   "source": [
    "# AOC Day 10\n",
    "\n",
    "%load_ext autoreload\n",
    "%autoreload 2\n",
    "\n",
    "from aoc.utils import *"
   ]
  },
  {
   "cell_type": "code",
   "execution_count": 16,
   "metadata": {},
   "outputs": [],
   "source": [
    "files: list[int] = []\n",
    "gaps: list[int] = []\n",
    "\n",
    "def restart():\n",
    "    global files, gaps\n",
    "    files = []\n",
    "    gaps = []\n",
    "    with open(\"input.txt\") as file:\n",
    "        row = file.read().strip()\n",
    "        is_file = True\n",
    "        for c in row:\n",
    "            is_file = not is_file\n",
    "            if not is_file:\n",
    "                files.append(int(c))\n",
    "                continue\n",
    "            gaps.append(int(c))"
   ]
  },
  {
   "cell_type": "code",
   "execution_count": 20,
   "metadata": {},
   "outputs": [
    {
     "name": "stdout",
     "output_type": "stream",
     "text": [
      "Part 1: 6301895872542\n"
     ]
    }
   ],
   "source": [
    "# Part 1:\n",
    "restart()\n",
    "index, checksum = 0, 0\n",
    "file_id = 0\n",
    "while True:\n",
    "    current_file, files = files[0], files[1:]\n",
    "    for _ in range(current_file):\n",
    "        checksum += file_id * index\n",
    "        index += 1\n",
    "    file_id += 1\n",
    "    if len(files) == 0:\n",
    "        break\n",
    "\n",
    "    current_gap, gaps = gaps[0], gaps[1:]\n",
    "    for _ in range(current_gap):\n",
    "        checksum += (file_id + len(files) - 1) * index\n",
    "        files[-1] -= 1\n",
    "        index += 1\n",
    "        if files[-1] == 0:\n",
    "            files = files[:-1]\n",
    "        if len(files) == 0:\n",
    "            break\n",
    "print(\"Part 1:\", checksum)"
   ]
  },
  {
   "cell_type": "code",
   "execution_count": 19,
   "metadata": {},
   "outputs": [
    {
     "name": "stdout",
     "output_type": "stream",
     "text": [
      "Part 2: 6323761685944\n"
     ]
    }
   ],
   "source": [
    "# Part 2:\n",
    "restart()\n",
    "# File ID, Length, Starting Index\n",
    "located_files: list[tuple[int, int, int]] = []\n",
    "# Length, Starting Index\n",
    "located_gaps: list[tuple[int, int]] = []\n",
    "\n",
    "file_id, index = 0, 0\n",
    "while True:\n",
    "    current_file_length, files = files[0], files[1:]\n",
    "    located_files.append((file_id, current_file_length, index))\n",
    "    index += current_file_length\n",
    "    file_id += 1\n",
    "    if len(files) == 0:\n",
    "        break\n",
    "\n",
    "    current_gap, gaps = gaps[0], gaps[1:]\n",
    "    located_gaps.append((current_gap, index))\n",
    "    index += current_gap\n",
    "\n",
    "def insert_into_gap(located_file: tuple[int, int, int], gaps: list[tuple[int, int]]):\n",
    "    file_id, file_length, file_start_index = located_file\n",
    "    for i, (gap_length, gap_start_index) in enumerate(gaps):\n",
    "        if gap_start_index > file_start_index:\n",
    "            continue\n",
    "        if gap_length >= file_length:\n",
    "            moved_file = (file_id, file_length, gap_start_index)\n",
    "            gaps[i] = (gap_length - file_length, gap_start_index + file_length)\n",
    "            if gap_length == file_length:\n",
    "                gaps = gaps[:i] + gaps[i + 1:]\n",
    "            return moved_file, gaps, True\n",
    "    return located_file, gaps, False\n",
    "\n",
    "shifting_file_id = len(located_files) - 1\n",
    "while shifting_file_id >= 0:\n",
    "    current_file = located_files[shifting_file_id]\n",
    "    moved_file, located_gaps, moved = insert_into_gap(current_file, located_gaps)\n",
    "    if moved:\n",
    "        located_files[shifting_file_id] = moved_file\n",
    "    shifting_file_id -= 1\n",
    "\n",
    "located_files.sort(key=lambda x: x[2])\n",
    "\n",
    "index, total = 0, 0\n",
    "for file_id, file_length, file_start_index in located_files:\n",
    "    index = file_start_index\n",
    "    for _ in range(file_length):\n",
    "        total += file_id * index\n",
    "        index += 1\n",
    "\n",
    "print(\"Part 2:\", total)"
   ]
  }
 ],
 "metadata": {
  "kernelspec": {
   "display_name": "Python 3",
   "language": "python",
   "name": "python3"
  },
  "language_info": {
   "codemirror_mode": {
    "name": "ipython",
    "version": 3
   },
   "file_extension": ".py",
   "mimetype": "text/x-python",
   "name": "python",
   "nbconvert_exporter": "python",
   "pygments_lexer": "ipython3",
   "version": "3.12.1"
  }
 },
 "nbformat": 4,
 "nbformat_minor": 2
}
