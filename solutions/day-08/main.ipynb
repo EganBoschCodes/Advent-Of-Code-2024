{
 "cells": [
  {
   "cell_type": "code",
   "execution_count": 1,
   "metadata": {},
   "outputs": [],
   "source": [
    "# AOC Day 8\n",
    "\n",
    "%load_ext autoreload\n",
    "%autoreload 2\n",
    "\n",
    "from aoc.utils import *"
   ]
  },
  {
   "cell_type": "code",
   "execution_count": 22,
   "metadata": {},
   "outputs": [
    {
     "name": "stdout",
     "output_type": "stream",
     "text": [
      "Part 1: 357\n",
      "Part 2: 1266\n"
     ]
    }
   ],
   "source": [
    "from itertools import combinations\n",
    "\n",
    "antenna_map: dict[str, list[tuple[int, int]]] = {}\n",
    "width, height = 0, 0\n",
    "with open(\"input.txt\", \"r\") as file:\n",
    "    rows = file.read().split(\"\\n\")\n",
    "    height = len(rows)\n",
    "    for r, row in enumerate(rows):\n",
    "        width = len(row)\n",
    "        for c, cell in enumerate(row):\n",
    "            if cell == \".\":\n",
    "                continue\n",
    "            if cell not in antenna_map:\n",
    "                antenna_map[cell] = []\n",
    "            antenna_map[cell].append((r, c))\n",
    "\n",
    "def get_offsets_p1(a: tuple[int, int], b: tuple[int, int]) -> list[tuple[int, int]]:\n",
    "    first_offset = (2 * b[0] - a[0], 2 * b[1] - a[1])\n",
    "    second_offset = (2 * a[0] - b[0], 2 * a[1] - b[1])\n",
    "    return [first_offset, second_offset]\n",
    "\n",
    "def add_tuple(a: tuple[int, int], b: tuple[int, int]) -> tuple[int, int]:\n",
    "    return (a[0] + b[0], a[1] + b[1])\n",
    "\n",
    "def get_offsets_p2(a: tuple[int, int], b: tuple[int, int]) -> list[tuple[int, int]]:\n",
    "    offsets = [a, b]\n",
    "    delta = (a[0] - b[0], a[1] - b[1])\n",
    "    while inbounds(add_tuple(a, delta)):\n",
    "        a = add_tuple(a, delta)\n",
    "        offsets.append(a)\n",
    "    negative_delta = (-delta[0], -delta[1])\n",
    "    while inbounds(add_tuple(b, negative_delta)):\n",
    "        b = add_tuple(b, negative_delta)\n",
    "        offsets.append(b)\n",
    "    return offsets\n",
    "\n",
    "def inbounds(p: tuple[int, int]) -> bool:\n",
    "    return 0 <= p[0] < height and 0 <= p[1] < width\n",
    "\n",
    "solutions_p1: set[tuple[int, int]] = set()\n",
    "solutions_p2: set[tuple[int, int]] = set()\n",
    "for antenna_type, antenna_positions in antenna_map.items():\n",
    "    for a, b in combinations(antenna_positions, 2):\n",
    "        for offset in get_offsets_p1(a, b):\n",
    "            if inbounds(offset):\n",
    "                solutions_p1.add(offset)\n",
    "        for offset in get_offsets_p2(a, b):\n",
    "            if inbounds(offset):\n",
    "                solutions_p2.add(offset)\n",
    "                \n",
    "print(\"Part 1:\", len(solutions_p1))\n",
    "print(\"Part 2:\", len(solutions_p2))"
   ]
  }
 ],
 "metadata": {
  "kernelspec": {
   "display_name": "Python 3",
   "language": "python",
   "name": "python3"
  },
  "language_info": {
   "codemirror_mode": {
    "name": "ipython",
    "version": 3
   },
   "file_extension": ".py",
   "mimetype": "text/x-python",
   "name": "python",
   "nbconvert_exporter": "python",
   "pygments_lexer": "ipython3",
   "version": "3.12.1"
  }
 },
 "nbformat": 4,
 "nbformat_minor": 2
}
