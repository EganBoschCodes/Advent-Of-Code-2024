{
 "cells": [
  {
   "cell_type": "code",
   "execution_count": 2,
   "metadata": {},
   "outputs": [
    {
     "name": "stdout",
     "output_type": "stream",
     "text": [
      "The autoreload extension is already loaded. To reload it, use:\n",
      "  %reload_ext autoreload\n"
     ]
    }
   ],
   "source": [
    "# AOC Day 4\n",
    "\n",
    "%load_ext autoreload\n",
    "%autoreload 2\n",
    "\n",
    "from aoc.utils import *"
   ]
  },
  {
   "cell_type": "code",
   "execution_count": 20,
   "metadata": {},
   "outputs": [],
   "source": [
    "# Load input and test data\n",
    "with open(\"input.txt\", \"r\") as file:\n",
    "    input_data = file.read().strip()\n",
    "\n",
    "with open(\"test.txt\", \"r\") as file:\n",
    "    test_input_data = file.read().strip()"
   ]
  },
  {
   "cell_type": "code",
   "execution_count": 15,
   "metadata": {},
   "outputs": [
    {
     "name": "stdout",
     "output_type": "stream",
     "text": [
      "123456789\n",
      "678901234\n",
      "123456789\n",
      "678901234\n"
     ]
    }
   ],
   "source": [
    "print(test_input_data)"
   ]
  },
  {
   "cell_type": "code",
   "execution_count": 21,
   "metadata": {},
   "outputs": [
    {
     "name": "stdout",
     "output_type": "stream",
     "text": [
      "678901234\n",
      "['678901', '234567', '890123', '456789']\n"
     ]
    }
   ],
   "source": [
    "print(get_shift_group(test_input_data.split(\"\\n\"), 1))"
   ]
  },
  {
   "cell_type": "code",
   "execution_count": null,
   "metadata": {},
   "outputs": [
    {
     "name": "stdout",
     "output_type": "stream",
     "text": [
      "Part 1: 2414\n"
     ]
    }
   ],
   "source": [
    "normal_matrix = input_data.split(\"\\n\")\n",
    "total = 0\n",
    "\n",
    "\n",
    "#NORMAL AND BACKWARDS\n",
    "for row in normal_matrix:\n",
    "    total += row.count(\"XMAS\") + row.count(\"SAMX\")\n",
    "\n",
    "transpose = [\"\".join([row[i] for row in normal_matrix]) for i in range(len(normal_matrix[0]))]\n",
    "for row in transpose:\n",
    "    total += row.count(\"XMAS\") + row.count(\"SAMX\")\n",
    "\n",
    "def get_shift_group(matrix, offset):\n",
    "    return [matrix[offset][:-3], matrix[offset + 1][1:-2], matrix[offset + 2][2:-1], matrix[offset + 3][3:]]\n",
    "\n",
    "def get_anti_shift_group(matrix, offset):\n",
    "    return [matrix[offset][3:], matrix[offset + 1][2:-1], matrix[offset + 2][1:-2], matrix[offset + 3][:-3]]\n",
    "\n",
    "for offset in range(len(normal_matrix) - 3):\n",
    "    shift_group = get_shift_group(normal_matrix, offset)\n",
    "    for i in range(len(shift_group[0])):\n",
    "        word = f\"{shift_group[0][i]}{shift_group[1][i]}{shift_group[2][i]}{shift_group[3][i]}\"\n",
    "        if word == \"XMAS\" or word == \"SAMX\":\n",
    "            total+=1\n",
    "\n",
    "    anti_shift_group = get_anti_shift_group(normal_matrix, offset)\n",
    "    for i in range(len(shift_group[0])):\n",
    "        word = f\"{anti_shift_group[0][i]}{anti_shift_group[1][i]}{anti_shift_group[2][i]}{anti_shift_group[3][i]}\"\n",
    "        if word == \"XMAS\" or word == \"SAMX\":\n",
    "            total+=1\n",
    "\n",
    "print(\"Part 1:\", total)"
   ]
  },
  {
   "cell_type": "code",
   "execution_count": null,
   "metadata": {},
   "outputs": [
    {
     "name": "stdout",
     "output_type": "stream",
     "text": [
      "Part 2: 1871\n"
     ]
    }
   ],
   "source": [
    "other = {\n",
    "    \"M\": \"S\",\n",
    "    \"S\": \"M\"\n",
    "}\n",
    "\n",
    "normal_matrix = input_data.split(\"\\n\")\n",
    "new_total = 0\n",
    "for r, row in enumerate(normal_matrix):\n",
    "    row_len = len(row)\n",
    "    for c, char in enumerate(row):\n",
    "        if char != \"A\" or r == 0 or r == len(normal_matrix) - 1 or c == 0 or c == row_len - 1:\n",
    "            continue\n",
    "        up_left = normal_matrix[r - 1][c - 1]\n",
    "        if up_left not in other or normal_matrix[r+1][c+1] != other[up_left]:\n",
    "            continue\n",
    "        up_right = normal_matrix[r - 1][c + 1]\n",
    "        if up_right not in other or normal_matrix[r+1][c-1] != other[up_right]:\n",
    "            continue\n",
    "        new_total += 1\n",
    "\n",
    "print(\"Part 2:\", new_total)"
   ]
  }
 ],
 "metadata": {
  "kernelspec": {
   "display_name": "Python 3",
   "language": "python",
   "name": "python3"
  },
  "language_info": {
   "codemirror_mode": {
    "name": "ipython",
    "version": 3
   },
   "file_extension": ".py",
   "mimetype": "text/x-python",
   "name": "python",
   "nbconvert_exporter": "python",
   "pygments_lexer": "ipython3",
   "version": "3.12.1"
  }
 },
 "nbformat": 4,
 "nbformat_minor": 2
}
