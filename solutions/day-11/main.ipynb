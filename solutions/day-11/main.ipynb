{
 "cells": [
  {
   "cell_type": "code",
   "execution_count": 4,
   "metadata": {},
   "outputs": [],
   "source": [
    "# AOC Day 10\n",
    "\n",
    "%load_ext autoreload\n",
    "%autoreload 2\n",
    "\n",
    "from aoc.utils import *\n",
    "import math as math"
   ]
  },
  {
   "cell_type": "code",
   "execution_count": 24,
   "metadata": {},
   "outputs": [],
   "source": [
    "stones: list[int] = []\n",
    "\n",
    "def init_stones():\n",
    "    global stones\n",
    "    with open(\"input.txt\") as file:\n",
    "        stones = list(map(int, file.read().split(\" \")))"
   ]
  },
  {
   "cell_type": "code",
   "execution_count": 27,
   "metadata": {},
   "outputs": [
    {
     "name": "stdout",
     "output_type": "stream",
     "text": [
      "Part 1: 224529\n",
      "Part 2: 266820198587914\n"
     ]
    }
   ],
   "source": [
    "from functools import cache\n",
    "init_stones()\n",
    "\n",
    "@cache\n",
    "def modify_stone(stone: int, steps: int) -> int:\n",
    "    if steps == 0:\n",
    "        return 1\n",
    "    if stone == 0:\n",
    "        return modify_stone(1, steps - 1)\n",
    "    if int(math.log10(stone)) % 2 == 1:\n",
    "        stone_str = str(stone)\n",
    "        return modify_stone(int(stone_str[:len(stone_str)//2]), steps - 1) + modify_stone(int(stone_str[len(stone_str)//2:]), steps - 1)\n",
    "    return modify_stone(stone * 2024, steps - 1)\n",
    "\n",
    "def flatten_list(l: list) -> list:\n",
    "    return [item for sublist in l for item in sublist]\n",
    "\n",
    "part_1, part_2 = 0, 0\n",
    "for stone in stones:\n",
    "    part_1 += modify_stone(stone, 25)\n",
    "    part_2 += modify_stone(stone, 75)\n",
    "print(\"Part 1:\", part_1)\n",
    "print(\"Part 2:\", part_2)"
   ]
  }
 ],
 "metadata": {
  "kernelspec": {
   "display_name": "Python 3",
   "language": "python",
   "name": "python3"
  },
  "language_info": {
   "codemirror_mode": {
    "name": "ipython",
    "version": 3
   },
   "file_extension": ".py",
   "mimetype": "text/x-python",
   "name": "python",
   "nbconvert_exporter": "python",
   "pygments_lexer": "ipython3",
   "version": "3.12.1"
  }
 },
 "nbformat": 4,
 "nbformat_minor": 2
}
