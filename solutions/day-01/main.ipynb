{
 "cells": [
  {
   "cell_type": "code",
   "execution_count": null,
   "metadata": {},
   "outputs": [],
   "source": [
    "# AOC Day 1\n",
    "\n",
    "%load_ext autoreload\n",
    "%autoreload 2\n",
    "\n",
    "from aoc.utils import *"
   ]
  },
  {
   "cell_type": "code",
   "execution_count": null,
   "metadata": {},
   "outputs": [],
   "source": [
    "# Load input\n",
    "with open(\"input.txt\", \"r\") as file:\n",
    "    data = file.read().strip()\n",
    "\n",
    "list1, list2 = [], []\n",
    "for row in data.split(\"\\n\"):\n",
    "    row_split = filter_blank(row.split(\" \"))\n",
    "    list1.append(int(row_split[0]))\n",
    "    list2.append(int(row_split[1]))"
   ]
  },
  {
   "cell_type": "code",
   "execution_count": null,
   "metadata": {},
   "outputs": [
    {
     "name": "stdout",
     "output_type": "stream",
     "text": [
      "2176849\n"
     ]
    }
   ],
   "source": [
    "# Part 1\n",
    "total = 0\n",
    "for val1, val2 in zip(sorted(list1), sorted(list2)):\n",
    "    total += abs(val1 - val2)\n",
    "print(total)"
   ]
  },
  {
   "cell_type": "code",
   "execution_count": null,
   "metadata": {},
   "outputs": [
    {
     "name": "stdout",
     "output_type": "stream",
     "text": [
      "23384288\n"
     ]
    }
   ],
   "source": [
    "# Part 2\n",
    "similarity = 0\n",
    "for num in list1:\n",
    "    num_occurances = sum([1 for val in list2 if val == num])\n",
    "    similarity += num * num_occurances\n",
    "print(similarity)"
   ]
  }
 ],
 "metadata": {
  "kernelspec": {
   "display_name": "Python 3",
   "language": "python",
   "name": "python3"
  },
  "language_info": {
   "codemirror_mode": {
    "name": "ipython",
    "version": 3
   },
   "file_extension": ".py",
   "mimetype": "text/x-python",
   "name": "python",
   "nbconvert_exporter": "python",
   "pygments_lexer": "ipython3",
   "version": "3.12.1"
  }
 },
 "nbformat": 4,
 "nbformat_minor": 2
}
