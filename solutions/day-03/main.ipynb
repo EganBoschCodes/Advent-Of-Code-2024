{
 "cells": [
  {
   "cell_type": "code",
   "execution_count": 1,
   "metadata": {},
   "outputs": [],
   "source": [
    "# AOC Day 3\n",
    "\n",
    "%load_ext autoreload\n",
    "%autoreload 2\n",
    "\n",
    "from aoc.utils import *"
   ]
  },
  {
   "cell_type": "code",
   "execution_count": 2,
   "metadata": {},
   "outputs": [],
   "source": [
    "# Load input and test data\n",
    "with open(\"input.txt\", \"r\") as file:\n",
    "    input_data = file.read().strip()\n",
    "\n",
    "with open(\"test.txt\", \"r\") as file:\n",
    "    test_input_data = file.read().strip()"
   ]
  },
  {
   "cell_type": "code",
   "execution_count": null,
   "metadata": {},
   "outputs": [
    {
     "name": "stdout",
     "output_type": "stream",
     "text": [
      "Part 1: 170068701\n",
      "Part 2: 78683433\n"
     ]
    }
   ],
   "source": [
    "import re\n",
    "\n",
    "pattern = re.compile(r\"mul\\(([0-9]+),([0-9]+)\\)|(do\\(\\))|(don't\\(\\))\")\n",
    "\n",
    "part_1_sum, part_2_sum = 0, 0\n",
    "do_add = True\n",
    "for line in pattern.findall(input_data):\n",
    "    if len(line[2]) > 0:\n",
    "        do_add = True\n",
    "        continue\n",
    "    elif len(line[3]) > 0:\n",
    "        do_add = False\n",
    "        continue\n",
    "    a, b = int(line[0]), int(line[1])\n",
    "    if do_add:\n",
    "        part_2_sum += a * b\n",
    "    part_1_sum += a * b\n",
    "print(\"Part 1:\", part_1_sum)\n",
    "print(\"Part 2:\", part_2_sum)\n",
    "\n"
   ]
  }
 ],
 "metadata": {
  "kernelspec": {
   "display_name": "Python 3",
   "language": "python",
   "name": "python3"
  },
  "language_info": {
   "codemirror_mode": {
    "name": "ipython",
    "version": 3
   },
   "file_extension": ".py",
   "mimetype": "text/x-python",
   "name": "python",
   "nbconvert_exporter": "python",
   "pygments_lexer": "ipython3",
   "version": "3.12.1"
  }
 },
 "nbformat": 4,
 "nbformat_minor": 2
}
